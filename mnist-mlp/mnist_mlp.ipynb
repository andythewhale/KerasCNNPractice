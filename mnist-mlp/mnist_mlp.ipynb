{
 "cells": [
  {
   "cell_type": "code",
   "execution_count": 1,
   "metadata": {
    "collapsed": true,
    "deletable": true,
    "editable": true
   },
   "outputs": [],
   "source": [
    "\"\"\"\n",
    "This is a scratch code notebook for Keras and MNIST\n",
    "\"\"\";"
   ]
  },
  {
   "cell_type": "code",
   "execution_count": 2,
   "metadata": {
    "collapsed": false,
    "deletable": true,
    "editable": true
   },
   "outputs": [
    {
     "name": "stderr",
     "output_type": "stream",
     "text": [
      "Using TensorFlow backend.\n"
     ]
    }
   ],
   "source": [
    "# import data\n",
    "from keras.datasets import mnist\n",
    "\n",
    "# load data\n",
    "(x_train, y_train), (x_test, y_test) = mnist.load_data()"
   ]
  },
  {
   "cell_type": "code",
   "execution_count": 3,
   "metadata": {
    "collapsed": true,
    "deletable": true,
    "editable": true
   },
   "outputs": [],
   "source": [
    "# Let's look at some digits:\n",
    "# imports:\n",
    "import matplotlib.pyplot as plt\n",
    "%matplotlib inline\n",
    "import matplotlib.cm as cm\n",
    "import numpy as np"
   ]
  },
  {
   "cell_type": "code",
   "execution_count": 4,
   "metadata": {
    "collapsed": false,
    "deletable": true,
    "editable": true
   },
   "outputs": [
    {
     "data": {
      "image/png": "[encoded data removed]",
      "text/plain": [
       "<matplotlib.figure.Figure at 0x2bb795fac50>"
      ]
     },
     "metadata": {},
     "output_type": "display_data"
    }
   ],
   "source": [
    "# First 13 images:\n",
    "fig = plt. figure(figsize=(10,10))\n",
    "for i in range (10):\n",
    "    ax = fig.add_subplot(1, 10, i + 1, xticks = [], yticks =[])\n",
    "    ax.imshow(x_train[i], cmap = 'gray')\n",
    "    ax.set_title(str(y_train[i]))"
   ]
  },
  {
   "cell_type": "code",
   "execution_count": 5,
   "metadata": {
    "collapsed": true,
    "deletable": true,
    "editable": true
   },
   "outputs": [],
   "source": [
    "# Each entry contains data on each pixel for each point present in the matrix.\n",
    "# The picture is the matrix. Each pixel appears as a number between 255 (white)\n",
    "# and 0 at the other end of the spectrum for black. Gray is in between."
   ]
  },
  {
   "cell_type": "code",
   "execution_count": 6,
   "metadata": {
    "collapsed": true,
    "deletable": true,
    "editable": true
   },
   "outputs": [],
   "source": [
    "# Normalizing / resizing\n",
    "x_train = x_train.astype('float32') / 255\n",
    "x_test = x_test.astype('float32') / 255"
   ]
  },
  {
   "cell_type": "code",
   "execution_count": 7,
   "metadata": {
    "collapsed": false,
    "deletable": true,
    "editable": true
   },
   "outputs": [],
   "source": [
    "# Images need to be pre-processed into one hot encoded vectors.\n",
    "# These vectors represent the images as different catagories where \n",
    "# the vector contains a 1 or 0 stating whether it is in the class\n",
    "# that corresponds to the 1 or 0 in that column.\n",
    "# One hot encoder:"
   ]
  },
  {
   "cell_type": "code",
   "execution_count": 8,
   "metadata": {
    "collapsed": false,
    "deletable": true,
    "editable": true
   },
   "outputs": [
    {
     "name": "stdout",
     "output_type": "stream",
     "text": [
      "Integer-valued labels:\n",
      "[5 0 4 1 9 2 1 3 1 4]\n"
     ]
    }
   ],
   "source": [
    "# Pre encoding:\n",
    "print('Integer-valued labels:')\n",
    "print(y_train[:10])"
   ]
  },
  {
   "cell_type": "code",
   "execution_count": 9,
   "metadata": {
    "collapsed": true,
    "deletable": true,
    "editable": true
   },
   "outputs": [],
   "source": [
    "# Dependency:\n",
    "from keras.utils import np_utils"
   ]
  },
  {
   "cell_type": "code",
   "execution_count": 10,
   "metadata": {
    "collapsed": true,
    "deletable": true,
    "editable": true
   },
   "outputs": [],
   "source": [
    "# Encoding step\n",
    "y_train = np_utils.to_categorical(y_train, 10)\n",
    "y_test = np_utils.to_categorical(y_test, 10)"
   ]
  },
  {
   "cell_type": "code",
   "execution_count": 11,
   "metadata": {
    "collapsed": false,
    "deletable": true,
    "editable": true
   },
   "outputs": [
    {
     "name": "stdout",
     "output_type": "stream",
     "text": [
      "One-hot labels:\n",
      "[[ 0.  0.  0.  0.  0.  1.  0.  0.  0.  0.]\n",
      " [ 1.  0.  0.  0.  0.  0.  0.  0.  0.  0.]\n",
      " [ 0.  0.  0.  0.  1.  0.  0.  0.  0.  0.]\n",
      " [ 0.  1.  0.  0.  0.  0.  0.  0.  0.  0.]\n",
      " [ 0.  0.  0.  0.  0.  0.  0.  0.  0.  1.]\n",
      " [ 0.  0.  1.  0.  0.  0.  0.  0.  0.  0.]\n",
      " [ 0.  1.  0.  0.  0.  0.  0.  0.  0.  0.]\n",
      " [ 0.  0.  0.  1.  0.  0.  0.  0.  0.  0.]\n",
      " [ 0.  1.  0.  0.  0.  0.  0.  0.  0.  0.]\n",
      " [ 0.  0.  0.  0.  1.  0.  0.  0.  0.  0.]\n",
      " [ 0.  0.  0.  1.  0.  0.  0.  0.  0.  0.]\n",
      " [ 0.  0.  0.  0.  0.  1.  0.  0.  0.  0.]\n",
      " [ 0.  0.  0.  1.  0.  0.  0.  0.  0.  0.]]\n"
     ]
    }
   ],
   "source": [
    "# Post encoding:\n",
    "print('One-hot labels:')\n",
    "print(y_train[:13])"
   ]
  },
  {
   "cell_type": "code",
   "execution_count": 12,
   "metadata": {
    "collapsed": true,
    "deletable": true,
    "editable": true
   },
   "outputs": [],
   "source": [
    "# This isn't enough, Multilayer perceptrons only take vectors as inputs.\n",
    "# This means our matrices need to be flattened to be converted to vectors\n",
    "# The patterns will still exist across the vector."
   ]
  },
  {
   "cell_type": "code",
   "execution_count": 13,
   "metadata": {
    "collapsed": true,
    "deletable": true,
    "editable": true
   },
   "outputs": [],
   "source": [
    "# Discovering patterns in our data\n",
    "# We have 784 entries, so we need 784 input nodes\n",
    "# We will develop 2 hidden layers with 512 nodes.\n",
    "# Output will depict 10 different digets so it should have 10 nodes.\n",
    "# Softmax will be an ok equation to use here."
   ]
  },
  {
   "cell_type": "code",
   "execution_count": 14,
   "metadata": {
    "collapsed": true,
    "deletable": true,
    "editable": true
   },
   "outputs": [],
   "source": [
    "# Imports\n",
    "from keras.models import Sequential\n",
    "from keras.layers import Dense, Flatten, Dropout"
   ]
  },
  {
   "cell_type": "code",
   "execution_count": 15,
   "metadata": {
    "collapsed": false,
    "deletable": true,
    "editable": true
   },
   "outputs": [
    {
     "name": "stdout",
     "output_type": "stream",
     "text": [
      "_________________________________________________________________\n",
      "Layer (type)                 Output Shape              Param #   \n",
      "=================================================================\n",
      "flatten_1 (Flatten)          (None, 784)               0         \n",
      "_________________________________________________________________\n",
      "dense_1 (Dense)              (None, 512)               401920    \n",
      "_________________________________________________________________\n",
      "dense_2 (Dense)              (None, 512)               262656    \n",
      "_________________________________________________________________\n",
      "dense_3 (Dense)              (None, 10)                5130      \n",
      "=================================================================\n",
      "Total params: 669,706\n",
      "Trainable params: 669,706\n",
      "Non-trainable params: 0\n",
      "_________________________________________________________________\n"
     ]
    }
   ],
   "source": [
    "# Define our model\n",
    "model = Sequential()\n",
    "model.add(Flatten(input_shape= x_train.shape[1:]))\n",
    "model.add(Dense(512))\n",
    "model.add(Dense(512))\n",
    "model.add(Dense(10, activation= 'softmax'))\n",
    "\n",
    "#summary of the model:\n",
    "model.summary()"
   ]
  },
  {
   "cell_type": "code",
   "execution_count": 16,
   "metadata": {
    "collapsed": false,
    "deletable": true,
    "editable": true
   },
   "outputs": [
    {
     "name": "stdout",
     "output_type": "stream",
     "text": [
      "_________________________________________________________________\n",
      "Layer (type)                 Output Shape              Param #   \n",
      "=================================================================\n",
      "flatten_2 (Flatten)          (None, 784)               0         \n",
      "_________________________________________________________________\n",
      "dense_4 (Dense)              (None, 512)               401920    \n",
      "_________________________________________________________________\n",
      "dense_5 (Dense)              (None, 512)               262656    \n",
      "_________________________________________________________________\n",
      "dense_6 (Dense)              (None, 10)                5130      \n",
      "=================================================================\n",
      "Total params: 669,706\n",
      "Trainable params: 669,706\n",
      "Non-trainable params: 0\n",
      "_________________________________________________________________\n"
     ]
    }
   ],
   "source": [
    "# We can add a RELU function to our hidden layer to improve our model.\n",
    "# This will help with vanishing gradient problems.\n",
    "\n",
    "# Define our model\n",
    "model = Sequential()\n",
    "model.add(Flatten(input_shape= x_train.shape[1:]))\n",
    "model.add(Dense(512, activation='relu'))\n",
    "model.add(Dense(512, activation='relu'))\n",
    "model.add(Dense(10, activation= 'softmax'))\n",
    "\n",
    "#summary of the model:\n",
    "model.summary()"
   ]
  },
  {
   "cell_type": "code",
   "execution_count": 17,
   "metadata": {
    "collapsed": false,
    "deletable": true,
    "editable": true
   },
   "outputs": [
    {
     "name": "stdout",
     "output_type": "stream",
     "text": [
      "_________________________________________________________________\n",
      "Layer (type)                 Output Shape              Param #   \n",
      "=================================================================\n",
      "flatten_3 (Flatten)          (None, 784)               0         \n",
      "_________________________________________________________________\n",
      "dense_7 (Dense)              (None, 512)               401920    \n",
      "_________________________________________________________________\n",
      "dropout_1 (Dropout)          (None, 512)               0         \n",
      "_________________________________________________________________\n",
      "dense_8 (Dense)              (None, 512)               262656    \n",
      "_________________________________________________________________\n",
      "dropout_2 (Dropout)          (None, 512)               0         \n",
      "_________________________________________________________________\n",
      "dense_9 (Dense)              (None, 10)                5130      \n",
      "=================================================================\n",
      "Total params: 669,706\n",
      "Trainable params: 669,706\n",
      "Non-trainable params: 0\n",
      "_________________________________________________________________\n"
     ]
    }
   ],
   "source": [
    "# Dropout layers should be added to prevent overfitting the resulting model.\n",
    "\n",
    "# Define our model\n",
    "model = Sequential()\n",
    "model.add(Flatten(input_shape= x_train.shape[1:]))\n",
    "model.add(Dense(512, activation='relu'))\n",
    "model.add(Dropout(0.2))\n",
    "model.add(Dense(512, activation='relu'))\n",
    "model.add(Dropout(0.2))\n",
    "model.add(Dense(10, activation= 'softmax'))\n",
    "\n",
    "#summary of the model:\n",
    "model.summary()"
   ]
  },
  {
   "cell_type": "code",
   "execution_count": 18,
   "metadata": {
    "collapsed": true,
    "deletable": true,
    "editable": true
   },
   "outputs": [],
   "source": [
    "# We need to specify a loss function.\n",
    "# We should use a catagorical cross entropy loss function because we're doing\n",
    "# a catagorical estimation.\n",
    "# THIS means that when we have our prediction outputs, the loss function will\n",
    "# Punish wrong probabilities a lot and punish correct probabilities more.\n",
    "# Our loss function needs to use an optimizer function."
   ]
  },
  {
   "cell_type": "code",
   "execution_count": 19,
   "metadata": {
    "collapsed": false,
    "deletable": true,
    "editable": true
   },
   "outputs": [],
   "source": [
    "# Loss function\n",
    "model.compile(loss = 'categorical_crossentropy', optimizer='rmsprop', metrics=['accuracy'])"
   ]
  },
  {
   "cell_type": "code",
   "execution_count": 20,
   "metadata": {
    "collapsed": false,
    "deletable": true,
    "editable": true
   },
   "outputs": [
    {
     "name": "stdout",
     "output_type": "stream",
     "text": [
      "Pre-trained accuracy: 14.8800%\n"
     ]
    }
   ],
   "source": [
    "# Pre training accuracy test:\n",
    "\n",
    "#score\n",
    "score = model.evaluate(x_test, y_test, verbose=0)\n",
    "accuracy = 100*score[1]\n",
    "\n",
    "#print output:\n",
    "print('Pre-trained accuracy: %.4f%%' % accuracy)"
   ]
  },
  {
   "cell_type": "code",
   "execution_count": 21,
   "metadata": {
    "collapsed": true,
    "deletable": true,
    "editable": true
   },
   "outputs": [],
   "source": [
    "# Sweet so it's terrible.\n",
    "# We need to train it.\n",
    "# Import\n",
    "from keras.callbacks import ModelCheckpoint"
   ]
  },
  {
   "cell_type": "code",
   "execution_count": 22,
   "metadata": {
    "collapsed": false,
    "deletable": true,
    "editable": true
   },
   "outputs": [
    {
     "name": "stdout",
     "output_type": "stream",
     "text": [
      "Train on 48000 samples, validate on 12000 samples\n",
      "Epoch 1/10\n",
      "Epoch 00000: val_loss improved from inf to 0.12947, saving model to mnist.model.best.hdf5\n",
      "7s - loss: 0.2751 - acc: 0.9149 - val_loss: 0.1295 - val_acc: 0.9597\n",
      "Epoch 2/10\n",
      "Epoch 00001: val_loss improved from 0.12947 to 0.08939, saving model to mnist.model.best.hdf5\n",
      "7s - loss: 0.1134 - acc: 0.9655 - val_loss: 0.0894 - val_acc: 0.9745\n",
      "Epoch 3/10\n",
      "Epoch 00002: val_loss did not improve\n",
      "7s - loss: 0.0754 - acc: 0.9771 - val_loss: 0.0910 - val_acc: 0.9747\n",
      "Epoch 4/10\n",
      "Epoch 00003: val_loss did not improve\n",
      "7s - loss: 0.0633 - acc: 0.9811 - val_loss: 0.0902 - val_acc: 0.9765\n",
      "Epoch 5/10\n",
      "Epoch 00004: val_loss improved from 0.08939 to 0.08549, saving model to mnist.model.best.hdf5\n",
      "7s - loss: 0.0510 - acc: 0.9847 - val_loss: 0.0855 - val_acc: 0.9785\n",
      "Epoch 6/10\n",
      "Epoch 00005: val_loss did not improve\n",
      "7s - loss: 0.0440 - acc: 0.9860 - val_loss: 0.0948 - val_acc: 0.9782\n",
      "Epoch 7/10\n",
      "Epoch 00006: val_loss did not improve\n",
      "7s - loss: 0.0377 - acc: 0.9884 - val_loss: 0.1041 - val_acc: 0.9786\n",
      "Epoch 8/10\n",
      "Epoch 00007: val_loss did not improve\n",
      "7s - loss: 0.0322 - acc: 0.9899 - val_loss: 0.1086 - val_acc: 0.9776\n",
      "Epoch 9/10\n",
      "Epoch 00008: val_loss did not improve\n",
      "7s - loss: 0.0279 - acc: 0.9918 - val_loss: 0.1141 - val_acc: 0.9793\n",
      "Epoch 10/10\n",
      "Epoch 00009: val_loss did not improve\n",
      "6s - loss: 0.0266 - acc: 0.9916 - val_loss: 0.1091 - val_acc: 0.9789\n"
     ]
    }
   ],
   "source": [
    "# model training:\n",
    "\n",
    "# This means we only save the best model at that path\n",
    "checkpointer = ModelCheckpoint(filepath='mnist.model.best.hdf5', verbose = 1,\n",
    "                               save_best_only=True)\n",
    "# save the history!\n",
    "\n",
    "hist = model.fit(x_train, y_train, batch_size=128, epochs = 10, \n",
    "                validation_split=0.2, callbacks = [checkpointer],\n",
    "                verbose = 2, shuffle=True)"
   ]
  },
  {
   "cell_type": "code",
   "execution_count": 23,
   "metadata": {
    "collapsed": false,
    "deletable": true,
    "editable": true
   },
   "outputs": [],
   "source": [
    "# It's almost never clear how many nodes, layers, epochs, etc you should use\n",
    "# Many decisions need to be made into designing the architecture\n",
    "# We use a training set, validation set, and test set\n",
    "# Training is used to fit the weights, validation to check how the model is doing\n",
    "# and test to check the accuracy of the model\n",
    "# This way we can look for overfitting between training and epoch data sets\n",
    "# This is useful when you have multiple architectures to compare things to\n",
    "# Pick the model with the lowest validation loss.\n",
    "# We create the test set to look at data we have never seen before."
   ]
  },
  {
   "cell_type": "code",
   "execution_count": 25,
   "metadata": {
    "collapsed": false,
    "deletable": true,
    "editable": true
   },
   "outputs": [],
   "source": [
    "# Let's see how we did:\n",
    "\n",
    "#load the weights that yielded the best validation accuracy:\n",
    "model.load_weights('mnist.model.best.hdf5')"
   ]
  },
  {
   "cell_type": "code",
   "execution_count": 26,
   "metadata": {
    "collapsed": false
   },
   "outputs": [
    {
     "name": "stdout",
     "output_type": "stream",
     "text": [
      "test accuracy: 98.150%\n"
     ]
    }
   ],
   "source": [
    "#evaluation of test accuracy:\n",
    "\n",
    "score = model.evaluate(x_test, y_test, verbose=0)\n",
    "accuracy = 100 * score[1]\n",
    "\n",
    "#print out accuracy\n",
    "print('test accuracy: %.3f%%' %accuracy)"
   ]
  },
  {
   "cell_type": "code",
   "execution_count": 27,
   "metadata": {
    "collapsed": true
   },
   "outputs": [],
   "source": [
    "#Killing it"
   ]
  },
  {
   "cell_type": "code",
   "execution_count": null,
   "metadata": {
    "collapsed": true
   },
   "outputs": [],
   "source": []
  }
 ],
 "metadata": {
  "kernelspec": {
   "display_name": "Python 3",
   "language": "python",
   "name": "python3"
  },
  "language_info": {
   "codemirror_mode": {
    "name": "ipython",
    "version": 3
   },
   "file_extension": ".py",
   "mimetype": "text/x-python",
   "name": "python",
   "nbconvert_exporter": "python",
   "pygments_lexer": "ipython3",
   "version": "3.6.0"
  }
 },
 "nbformat": 4,
 "nbformat_minor": 2
}
